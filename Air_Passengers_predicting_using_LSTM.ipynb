{
  "nbformat": 4,
  "nbformat_minor": 0,
  "metadata": {
    "colab": {
      "name": "Air Passengers predicting using LSTM.ipynb",
      "provenance": [],
      "authorship_tag": "ABX9TyOiCoXOK/II4ED/56UrMbtn",
      "include_colab_link": true
    },
    "kernelspec": {
      "name": "python3",
      "display_name": "Python 3"
    },
    "accelerator": "GPU"
  },
  "cells": [
    {
      "cell_type": "markdown",
      "metadata": {
        "id": "view-in-github",
        "colab_type": "text"
      },
      "source": [
        "<a href=\"https://colab.research.google.com/github/Degananda264/Air-Passengers-predicting-using-LSTM/blob/master/Air_Passengers_predicting_using_LSTM.ipynb\" target=\"_parent\"><img src=\"https://colab.research.google.com/assets/colab-badge.svg\" alt=\"Open In Colab\"/></a>"
      ]
    },
    {
      "cell_type": "code",
      "metadata": {
        "id": "bpexm-QgZW-_",
        "colab_type": "code",
        "colab": {
          "base_uri": "https://localhost:8080/",
          "height": 71
        },
        "outputId": "2760109f-0937-4b70-b55b-c8e271c84245"
      },
      "source": [
        "import pandas as pd\n",
        "import numpy as np\n",
        "import matplotlib.pyplot as plt\n",
        "import seaborn\n"
      ],
      "execution_count": 1,
      "outputs": [
        {
          "output_type": "stream",
          "text": [
            "/usr/local/lib/python3.6/dist-packages/statsmodels/tools/_testing.py:19: FutureWarning: pandas.util.testing is deprecated. Use the functions in the public API at pandas.testing instead.\n",
            "  import pandas.util.testing as tm\n"
          ],
          "name": "stderr"
        }
      ]
    },
    {
      "cell_type": "code",
      "metadata": {
        "id": "cSTTJ1hYZkXc",
        "colab_type": "code",
        "colab": {}
      },
      "source": [
        "df=pd.read_csv(\"/content/AirPassengers.csv\")"
      ],
      "execution_count": 0,
      "outputs": []
    },
    {
      "cell_type": "code",
      "metadata": {
        "id": "4Qx9GConZs1s",
        "colab_type": "code",
        "colab": {
          "base_uri": "https://localhost:8080/",
          "height": 204
        },
        "outputId": "dd0452f7-65ee-4d8e-b180-c2383714ce51"
      },
      "source": [
        "df.head()"
      ],
      "execution_count": 4,
      "outputs": [
        {
          "output_type": "execute_result",
          "data": {
            "text/html": [
              "<div>\n",
              "<style scoped>\n",
              "    .dataframe tbody tr th:only-of-type {\n",
              "        vertical-align: middle;\n",
              "    }\n",
              "\n",
              "    .dataframe tbody tr th {\n",
              "        vertical-align: top;\n",
              "    }\n",
              "\n",
              "    .dataframe thead th {\n",
              "        text-align: right;\n",
              "    }\n",
              "</style>\n",
              "<table border=\"1\" class=\"dataframe\">\n",
              "  <thead>\n",
              "    <tr style=\"text-align: right;\">\n",
              "      <th></th>\n",
              "      <th>Month</th>\n",
              "      <th>#Passengers</th>\n",
              "    </tr>\n",
              "  </thead>\n",
              "  <tbody>\n",
              "    <tr>\n",
              "      <th>0</th>\n",
              "      <td>1949-01</td>\n",
              "      <td>112</td>\n",
              "    </tr>\n",
              "    <tr>\n",
              "      <th>1</th>\n",
              "      <td>1949-02</td>\n",
              "      <td>118</td>\n",
              "    </tr>\n",
              "    <tr>\n",
              "      <th>2</th>\n",
              "      <td>1949-03</td>\n",
              "      <td>132</td>\n",
              "    </tr>\n",
              "    <tr>\n",
              "      <th>3</th>\n",
              "      <td>1949-04</td>\n",
              "      <td>129</td>\n",
              "    </tr>\n",
              "    <tr>\n",
              "      <th>4</th>\n",
              "      <td>1949-05</td>\n",
              "      <td>121</td>\n",
              "    </tr>\n",
              "  </tbody>\n",
              "</table>\n",
              "</div>"
            ],
            "text/plain": [
              "     Month  #Passengers\n",
              "0  1949-01          112\n",
              "1  1949-02          118\n",
              "2  1949-03          132\n",
              "3  1949-04          129\n",
              "4  1949-05          121"
            ]
          },
          "metadata": {
            "tags": []
          },
          "execution_count": 4
        }
      ]
    },
    {
      "cell_type": "code",
      "metadata": {
        "id": "042kqghaaqVl",
        "colab_type": "code",
        "colab": {
          "base_uri": "https://localhost:8080/",
          "height": 34
        },
        "outputId": "6bf55d59-c6bd-4e2c-e892-6d146e13e7dc"
      },
      "source": [
        "df.shape"
      ],
      "execution_count": 14,
      "outputs": [
        {
          "output_type": "execute_result",
          "data": {
            "text/plain": [
              "(144, 2)"
            ]
          },
          "metadata": {
            "tags": []
          },
          "execution_count": 14
        }
      ]
    },
    {
      "cell_type": "code",
      "metadata": {
        "id": "CGREYHt-asP2",
        "colab_type": "code",
        "colab": {
          "base_uri": "https://localhost:8080/",
          "height": 68
        },
        "outputId": "881e6993-787f-4005-819b-31cea5404c59"
      },
      "source": [
        "df.isnull().sum()"
      ],
      "execution_count": 15,
      "outputs": [
        {
          "output_type": "execute_result",
          "data": {
            "text/plain": [
              "Month          0\n",
              "#Passengers    0\n",
              "dtype: int64"
            ]
          },
          "metadata": {
            "tags": []
          },
          "execution_count": 15
        }
      ]
    },
    {
      "cell_type": "code",
      "metadata": {
        "id": "ixYtcMEbZwuE",
        "colab_type": "code",
        "colab": {
          "base_uri": "https://localhost:8080/",
          "height": 282
        },
        "outputId": "60e9f36e-76c7-4062-95b1-22bb13220254"
      },
      "source": [
        "plt.plot(df['#Passengers'])"
      ],
      "execution_count": 6,
      "outputs": [
        {
          "output_type": "execute_result",
          "data": {
            "text/plain": [
              "[<matplotlib.lines.Line2D at 0x7f9171e1a390>]"
            ]
          },
          "metadata": {
            "tags": []
          },
          "execution_count": 6
        },
        {
          "output_type": "display_data",
          "data": {
            "image/png": "[encoded data removed]",
            "text/plain": [
              "<Figure size 432x288 with 1 Axes>"
            ]
          },
          "metadata": {
            "tags": [],
            "needs_background": "light"
          }
        }
      ]
    },
    {
      "cell_type": "code",
      "metadata": {
        "id": "nwDs3IkMZ2Zf",
        "colab_type": "code",
        "colab": {}
      },
      "source": [
        "from sklearn.preprocessing import MinMaxScaler"
      ],
      "execution_count": 0,
      "outputs": []
    },
    {
      "cell_type": "code",
      "metadata": {
        "id": "EUvMDvlVaDe0",
        "colab_type": "code",
        "colab": {}
      },
      "source": [
        "scaler=MinMaxScaler(feature_range=(0, 1))\n",
        "scaled_df=scaler.fit_transform(df.iloc[:,1:])"
      ],
      "execution_count": 0,
      "outputs": []
    },
    {
      "cell_type": "code",
      "metadata": {
        "id": "KNQBvrC1aXsL",
        "colab_type": "code",
        "colab": {
          "base_uri": "https://localhost:8080/",
          "height": 34
        },
        "outputId": "c60b268e-4fc2-4c10-c327-582eff8b83e7"
      },
      "source": [
        "scaled_df.shape"
      ],
      "execution_count": 13,
      "outputs": [
        {
          "output_type": "execute_result",
          "data": {
            "text/plain": [
              "(144, 1)"
            ]
          },
          "metadata": {
            "tags": []
          },
          "execution_count": 13
        }
      ]
    },
    {
      "cell_type": "code",
      "metadata": {
        "id": "w-jiFCR7alrg",
        "colab_type": "code",
        "colab": {}
      },
      "source": [
        "train_df_size=int(len(df)*0.65)"
      ],
      "execution_count": 0,
      "outputs": []
    },
    {
      "cell_type": "code",
      "metadata": {
        "id": "8F_X_0Ita7oK",
        "colab_type": "code",
        "colab": {
          "base_uri": "https://localhost:8080/",
          "height": 34
        },
        "outputId": "0823b7c2-f0b4-44c4-bfab-4229bf1a6004"
      },
      "source": [
        "train_df_size"
      ],
      "execution_count": 19,
      "outputs": [
        {
          "output_type": "execute_result",
          "data": {
            "text/plain": [
              "93"
            ]
          },
          "metadata": {
            "tags": []
          },
          "execution_count": 19
        }
      ]
    },
    {
      "cell_type": "code",
      "metadata": {
        "id": "vgmOF-E6a-Am",
        "colab_type": "code",
        "colab": {}
      },
      "source": [
        "test_df_size=len(df)-train_df_size"
      ],
      "execution_count": 0,
      "outputs": []
    },
    {
      "cell_type": "code",
      "metadata": {
        "id": "6qDUPu7mbLbR",
        "colab_type": "code",
        "colab": {
          "base_uri": "https://localhost:8080/",
          "height": 34
        },
        "outputId": "0bb9e4f9-b0d8-4c98-98b5-d6b525471341"
      },
      "source": [
        "test_df_size"
      ],
      "execution_count": 23,
      "outputs": [
        {
          "output_type": "execute_result",
          "data": {
            "text/plain": [
              "51"
            ]
          },
          "metadata": {
            "tags": []
          },
          "execution_count": 23
        }
      ]
    },
    {
      "cell_type": "code",
      "metadata": {
        "id": "7TK5Ro0cbPc2",
        "colab_type": "code",
        "colab": {}
      },
      "source": [
        "train_data,test_data=scaled_df[0:train_df_size,:],scaled_df[train_df_size:len(df),:1]"
      ],
      "execution_count": 0,
      "outputs": []
    },
    {
      "cell_type": "code",
      "metadata": {
        "id": "oxaiWKqIbUZ6",
        "colab_type": "code",
        "colab": {
          "base_uri": "https://localhost:8080/",
          "height": 1000
        },
        "outputId": "83520c0b-ec61-4166-bbde-bde35def16c8"
      },
      "source": [
        "train_data"
      ],
      "execution_count": 28,
      "outputs": [
        {
          "output_type": "execute_result",
          "data": {
            "text/plain": [
              "array([[0.01544402],\n",
              "       [0.02702703],\n",
              "       [0.05405405],\n",
              "       [0.04826255],\n",
              "       [0.03281853],\n",
              "       [0.05984556],\n",
              "       [0.08494208],\n",
              "       [0.08494208],\n",
              "       [0.06177606],\n",
              "       [0.02895753],\n",
              "       [0.        ],\n",
              "       [0.02702703],\n",
              "       [0.02123552],\n",
              "       [0.04247104],\n",
              "       [0.07142857],\n",
              "       [0.05984556],\n",
              "       [0.04054054],\n",
              "       [0.08687259],\n",
              "       [0.12741313],\n",
              "       [0.12741313],\n",
              "       [0.1042471 ],\n",
              "       [0.05598456],\n",
              "       [0.01930502],\n",
              "       [0.06949807],\n",
              "       [0.07915058],\n",
              "       [0.08880309],\n",
              "       [0.14285714],\n",
              "       [0.11389961],\n",
              "       [0.13127413],\n",
              "       [0.14285714],\n",
              "       [0.18339768],\n",
              "       [0.18339768],\n",
              "       [0.15444015],\n",
              "       [0.11196911],\n",
              "       [0.08108108],\n",
              "       [0.11969112],\n",
              "       [0.12934363],\n",
              "       [0.14671815],\n",
              "       [0.17181467],\n",
              "       [0.14864865],\n",
              "       [0.15250965],\n",
              "       [0.22007722],\n",
              "       [0.24324324],\n",
              "       [0.26640927],\n",
              "       [0.2027027 ],\n",
              "       [0.16795367],\n",
              "       [0.13127413],\n",
              "       [0.17374517],\n",
              "       [0.17760618],\n",
              "       [0.17760618],\n",
              "       [0.25482625],\n",
              "       [0.25289575],\n",
              "       [0.24131274],\n",
              "       [0.26833977],\n",
              "       [0.30888031],\n",
              "       [0.32432432],\n",
              "       [0.25675676],\n",
              "       [0.20656371],\n",
              "       [0.14671815],\n",
              "       [0.18725869],\n",
              "       [0.19305019],\n",
              "       [0.16216216],\n",
              "       [0.25289575],\n",
              "       [0.23745174],\n",
              "       [0.25096525],\n",
              "       [0.30888031],\n",
              "       [0.38223938],\n",
              "       [0.36486486],\n",
              "       [0.2992278 ],\n",
              "       [0.24131274],\n",
              "       [0.19111969],\n",
              "       [0.24131274],\n",
              "       [0.26640927],\n",
              "       [0.24903475],\n",
              "       [0.31467181],\n",
              "       [0.31853282],\n",
              "       [0.32046332],\n",
              "       [0.40733591],\n",
              "       [0.5019305 ],\n",
              "       [0.46911197],\n",
              "       [0.4015444 ],\n",
              "       [0.32818533],\n",
              "       [0.25675676],\n",
              "       [0.33590734],\n",
              "       [0.34749035],\n",
              "       [0.33397683],\n",
              "       [0.41119691],\n",
              "       [0.4034749 ],\n",
              "       [0.41312741],\n",
              "       [0.52123552],\n",
              "       [0.5965251 ],\n",
              "       [0.58108108],\n",
              "       [0.48455598]])"
            ]
          },
          "metadata": {
            "tags": []
          },
          "execution_count": 28
        }
      ]
    },
    {
      "cell_type": "code",
      "metadata": {
        "id": "Xc40WOR8br1N",
        "colab_type": "code",
        "colab": {}
      },
      "source": [
        "import numpy\n",
        "# convert an array of values into a dataset matrix\n",
        "def create_dataset(dataset, time_step=1):\n",
        "\tdataX, dataY = [], []\n",
        "\tfor i in range(len(dataset)-time_step-1):\n",
        "\t\ta = dataset[i:(i+time_step), 0]   ###i=0, 0,1,2,3\n",
        "\t\tdataX.append(a)\n",
        "\t\tdataY.append(dataset[i + time_step, 0])\n",
        "\treturn numpy.array(dataX), numpy.array(dataY)"
      ],
      "execution_count": 0,
      "outputs": []
    },
    {
      "cell_type": "code",
      "metadata": {
        "id": "LzHbPBhbb4wI",
        "colab_type": "code",
        "colab": {}
      },
      "source": [
        "# reshape into X=t,t+1,t+2,t+3 and Y=t+4\n",
        "time_step = 4\n",
        "X_train, y_train = create_dataset(train_data, time_step)\n",
        "X_test, ytest = create_dataset(test_data, time_step)"
      ],
      "execution_count": 0,
      "outputs": []
    },
    {
      "cell_type": "code",
      "metadata": {
        "id": "FyyrhKv5b9ru",
        "colab_type": "code",
        "colab": {
          "base_uri": "https://localhost:8080/",
          "height": 34
        },
        "outputId": "120476d7-2e65-4017-c2bd-18bbd8635a17"
      },
      "source": [
        "\n",
        "X_train.shape, y_train.shape"
      ],
      "execution_count": 31,
      "outputs": [
        {
          "output_type": "execute_result",
          "data": {
            "text/plain": [
              "((88, 4), (88,))"
            ]
          },
          "metadata": {
            "tags": []
          },
          "execution_count": 31
        }
      ]
    },
    {
      "cell_type": "code",
      "metadata": {
        "id": "1APVAKCccAT9",
        "colab_type": "code",
        "colab": {}
      },
      "source": [
        "import numpy as np\n",
        "# reshape input to be [samples, time steps, features] which is required for LSTM\n",
        "X_train =X_train.reshape(X_train.shape[0], 4, 1)\n",
        "X_test = X_test.reshape(X_test.shape[0], 4, 1)"
      ],
      "execution_count": 0,
      "outputs": []
    },
    {
      "cell_type": "code",
      "metadata": {
        "id": "UVzwbNN0cFcb",
        "colab_type": "code",
        "colab": {}
      },
      "source": [
        "\n",
        "### Create the LSTM model\n",
        "from tensorflow.keras.models import Sequential\n",
        "from tensorflow.keras.layers import Dense\n",
        "from tensorflow.keras.layers import LSTM"
      ],
      "execution_count": 0,
      "outputs": []
    },
    {
      "cell_type": "code",
      "metadata": {
        "id": "BsPN96MXcIAm",
        "colab_type": "code",
        "colab": {
          "base_uri": "https://localhost:8080/",
          "height": 1000
        },
        "outputId": "1805a441-82ad-41bf-e5a3-31219435cef8"
      },
      "source": [
        "\n",
        "model=Sequential()\n",
        "model.add(LSTM(50,return_sequences=True,input_shape=(4,1)))\n",
        "model.add(LSTM(50))\n",
        "model.add(Dense(1))\n",
        "model.compile(loss='mean_squared_error',optimizer='adam')\n",
        "model.fit(X_train,y_train,validation_data=(X_test,ytest),epochs=100,batch_size=1,verbose=1)"
      ],
      "execution_count": 34,
      "outputs": [
        {
          "output_type": "stream",
          "text": [
            "Epoch 1/100\n",
            "88/88 [==============================] - 1s 17ms/step - loss: 0.0165 - val_loss: 0.0265\n",
            "Epoch 2/100\n",
            "88/88 [==============================] - 1s 7ms/step - loss: 0.0064 - val_loss: 0.0553\n",
            "Epoch 3/100\n",
            "88/88 [==============================] - 1s 7ms/step - loss: 0.0062 - val_loss: 0.0299\n",
            "Epoch 4/100\n",
            "88/88 [==============================] - 1s 7ms/step - loss: 0.0057 - val_loss: 0.0267\n",
            "Epoch 5/100\n",
            "88/88 [==============================] - 1s 7ms/step - loss: 0.0055 - val_loss: 0.0305\n",
            "Epoch 6/100\n",
            "88/88 [==============================] - 1s 7ms/step - loss: 0.0057 - val_loss: 0.0308\n",
            "Epoch 7/100\n",
            "88/88 [==============================] - 1s 7ms/step - loss: 0.0053 - val_loss: 0.0282\n",
            "Epoch 8/100\n",
            "88/88 [==============================] - 1s 7ms/step - loss: 0.0054 - val_loss: 0.0368\n",
            "Epoch 9/100\n",
            "88/88 [==============================] - 1s 6ms/step - loss: 0.0049 - val_loss: 0.0223\n",
            "Epoch 10/100\n",
            "88/88 [==============================] - 1s 7ms/step - loss: 0.0060 - val_loss: 0.0224\n",
            "Epoch 11/100\n",
            "88/88 [==============================] - 1s 7ms/step - loss: 0.0048 - val_loss: 0.0208\n",
            "Epoch 12/100\n",
            "88/88 [==============================] - 1s 7ms/step - loss: 0.0051 - val_loss: 0.0177\n",
            "Epoch 13/100\n",
            "88/88 [==============================] - 1s 7ms/step - loss: 0.0045 - val_loss: 0.0235\n",
            "Epoch 14/100\n",
            "88/88 [==============================] - 1s 7ms/step - loss: 0.0043 - val_loss: 0.0161\n",
            "Epoch 15/100\n",
            "88/88 [==============================] - 1s 7ms/step - loss: 0.0037 - val_loss: 0.0193\n",
            "Epoch 16/100\n",
            "88/88 [==============================] - 1s 7ms/step - loss: 0.0037 - val_loss: 0.0208\n",
            "Epoch 17/100\n",
            "88/88 [==============================] - 1s 7ms/step - loss: 0.0034 - val_loss: 0.0164\n",
            "Epoch 18/100\n",
            "88/88 [==============================] - 1s 7ms/step - loss: 0.0038 - val_loss: 0.0105\n",
            "Epoch 19/100\n",
            "88/88 [==============================] - 1s 7ms/step - loss: 0.0030 - val_loss: 0.0124\n",
            "Epoch 20/100\n",
            "88/88 [==============================] - 1s 7ms/step - loss: 0.0027 - val_loss: 0.0097\n",
            "Epoch 21/100\n",
            "88/88 [==============================] - 1s 7ms/step - loss: 0.0025 - val_loss: 0.0075\n",
            "Epoch 22/100\n",
            "88/88 [==============================] - 1s 7ms/step - loss: 0.0024 - val_loss: 0.0094\n",
            "Epoch 23/100\n",
            "88/88 [==============================] - 1s 7ms/step - loss: 0.0023 - val_loss: 0.0109\n",
            "Epoch 24/100\n",
            "88/88 [==============================] - 1s 7ms/step - loss: 0.0023 - val_loss: 0.0080\n",
            "Epoch 25/100\n",
            "88/88 [==============================] - 1s 7ms/step - loss: 0.0020 - val_loss: 0.0083\n",
            "Epoch 26/100\n",
            "88/88 [==============================] - 1s 7ms/step - loss: 0.0018 - val_loss: 0.0108\n",
            "Epoch 27/100\n",
            "88/88 [==============================] - 1s 7ms/step - loss: 0.0019 - val_loss: 0.0069\n",
            "Epoch 28/100\n",
            "88/88 [==============================] - 1s 7ms/step - loss: 0.0020 - val_loss: 0.0078\n",
            "Epoch 29/100\n",
            "88/88 [==============================] - 1s 7ms/step - loss: 0.0022 - val_loss: 0.0093\n",
            "Epoch 30/100\n",
            "88/88 [==============================] - 1s 7ms/step - loss: 0.0018 - val_loss: 0.0092\n",
            "Epoch 31/100\n",
            "88/88 [==============================] - 1s 7ms/step - loss: 0.0018 - val_loss: 0.0077\n",
            "Epoch 32/100\n",
            "88/88 [==============================] - 1s 7ms/step - loss: 0.0020 - val_loss: 0.0114\n",
            "Epoch 33/100\n",
            "88/88 [==============================] - 1s 7ms/step - loss: 0.0018 - val_loss: 0.0096\n",
            "Epoch 34/100\n",
            "88/88 [==============================] - 1s 7ms/step - loss: 0.0018 - val_loss: 0.0099\n",
            "Epoch 35/100\n",
            "88/88 [==============================] - 1s 7ms/step - loss: 0.0018 - val_loss: 0.0099\n",
            "Epoch 36/100\n",
            "88/88 [==============================] - 1s 7ms/step - loss: 0.0019 - val_loss: 0.0130\n",
            "Epoch 37/100\n",
            "88/88 [==============================] - 1s 7ms/step - loss: 0.0022 - val_loss: 0.0078\n",
            "Epoch 38/100\n",
            "88/88 [==============================] - 1s 7ms/step - loss: 0.0019 - val_loss: 0.0176\n",
            "Epoch 39/100\n",
            "88/88 [==============================] - 1s 7ms/step - loss: 0.0018 - val_loss: 0.0102\n",
            "Epoch 40/100\n",
            "88/88 [==============================] - 1s 7ms/step - loss: 0.0019 - val_loss: 0.0143\n",
            "Epoch 41/100\n",
            "88/88 [==============================] - 1s 7ms/step - loss: 0.0020 - val_loss: 0.0211\n",
            "Epoch 42/100\n",
            "88/88 [==============================] - 1s 7ms/step - loss: 0.0020 - val_loss: 0.0090\n",
            "Epoch 43/100\n",
            "88/88 [==============================] - 1s 7ms/step - loss: 0.0018 - val_loss: 0.0167\n",
            "Epoch 44/100\n",
            "88/88 [==============================] - 1s 7ms/step - loss: 0.0022 - val_loss: 0.0298\n",
            "Epoch 45/100\n",
            "88/88 [==============================] - 1s 7ms/step - loss: 0.0024 - val_loss: 0.0105\n",
            "Epoch 46/100\n",
            "88/88 [==============================] - 1s 7ms/step - loss: 0.0028 - val_loss: 0.0093\n",
            "Epoch 47/100\n",
            "88/88 [==============================] - 1s 7ms/step - loss: 0.0019 - val_loss: 0.0077\n",
            "Epoch 48/100\n",
            "88/88 [==============================] - 1s 7ms/step - loss: 0.0018 - val_loss: 0.0087\n",
            "Epoch 49/100\n",
            "88/88 [==============================] - 1s 7ms/step - loss: 0.0019 - val_loss: 0.0112\n",
            "Epoch 50/100\n",
            "88/88 [==============================] - 1s 7ms/step - loss: 0.0020 - val_loss: 0.0109\n",
            "Epoch 51/100\n",
            "88/88 [==============================] - 1s 7ms/step - loss: 0.0017 - val_loss: 0.0093\n",
            "Epoch 52/100\n",
            "88/88 [==============================] - 1s 7ms/step - loss: 0.0018 - val_loss: 0.0178\n",
            "Epoch 53/100\n",
            "88/88 [==============================] - 1s 7ms/step - loss: 0.0020 - val_loss: 0.0082\n",
            "Epoch 54/100\n",
            "88/88 [==============================] - 1s 7ms/step - loss: 0.0018 - val_loss: 0.0182\n",
            "Epoch 55/100\n",
            "88/88 [==============================] - 1s 8ms/step - loss: 0.0021 - val_loss: 0.0079\n",
            "Epoch 56/100\n",
            "88/88 [==============================] - 1s 7ms/step - loss: 0.0019 - val_loss: 0.0085\n",
            "Epoch 57/100\n",
            "88/88 [==============================] - 1s 7ms/step - loss: 0.0019 - val_loss: 0.0087\n",
            "Epoch 58/100\n",
            "88/88 [==============================] - 1s 8ms/step - loss: 0.0020 - val_loss: 0.0085\n",
            "Epoch 59/100\n",
            "88/88 [==============================] - 1s 7ms/step - loss: 0.0020 - val_loss: 0.0141\n",
            "Epoch 60/100\n",
            "88/88 [==============================] - 1s 7ms/step - loss: 0.0024 - val_loss: 0.0249\n",
            "Epoch 61/100\n",
            "88/88 [==============================] - 1s 7ms/step - loss: 0.0020 - val_loss: 0.0121\n",
            "Epoch 62/100\n",
            "88/88 [==============================] - 1s 6ms/step - loss: 0.0019 - val_loss: 0.0202\n",
            "Epoch 63/100\n",
            "88/88 [==============================] - 1s 7ms/step - loss: 0.0022 - val_loss: 0.0208\n",
            "Epoch 64/100\n",
            "88/88 [==============================] - 1s 6ms/step - loss: 0.0018 - val_loss: 0.0126\n",
            "Epoch 65/100\n",
            "88/88 [==============================] - 1s 7ms/step - loss: 0.0019 - val_loss: 0.0213\n",
            "Epoch 66/100\n",
            "88/88 [==============================] - 1s 7ms/step - loss: 0.0020 - val_loss: 0.0083\n",
            "Epoch 67/100\n",
            "88/88 [==============================] - 1s 7ms/step - loss: 0.0020 - val_loss: 0.0177\n",
            "Epoch 68/100\n",
            "88/88 [==============================] - 1s 7ms/step - loss: 0.0018 - val_loss: 0.0082\n",
            "Epoch 69/100\n",
            "88/88 [==============================] - 1s 6ms/step - loss: 0.0018 - val_loss: 0.0184\n",
            "Epoch 70/100\n",
            "88/88 [==============================] - 1s 7ms/step - loss: 0.0018 - val_loss: 0.0188\n",
            "Epoch 71/100\n",
            "88/88 [==============================] - 1s 7ms/step - loss: 0.0021 - val_loss: 0.0196\n",
            "Epoch 72/100\n",
            "88/88 [==============================] - 1s 7ms/step - loss: 0.0020 - val_loss: 0.0214\n",
            "Epoch 73/100\n",
            "88/88 [==============================] - 1s 7ms/step - loss: 0.0018 - val_loss: 0.0101\n",
            "Epoch 74/100\n",
            "88/88 [==============================] - 1s 7ms/step - loss: 0.0024 - val_loss: 0.0168\n",
            "Epoch 75/100\n",
            "88/88 [==============================] - 1s 7ms/step - loss: 0.0019 - val_loss: 0.0115\n",
            "Epoch 76/100\n",
            "88/88 [==============================] - 1s 7ms/step - loss: 0.0019 - val_loss: 0.0092\n",
            "Epoch 77/100\n",
            "88/88 [==============================] - 1s 7ms/step - loss: 0.0020 - val_loss: 0.0127\n",
            "Epoch 78/100\n",
            "88/88 [==============================] - 1s 7ms/step - loss: 0.0020 - val_loss: 0.0226\n",
            "Epoch 79/100\n",
            "88/88 [==============================] - 1s 11ms/step - loss: 0.0017 - val_loss: 0.0153\n",
            "Epoch 80/100\n",
            "88/88 [==============================] - 1s 7ms/step - loss: 0.0020 - val_loss: 0.0163\n",
            "Epoch 81/100\n",
            "88/88 [==============================] - 1s 7ms/step - loss: 0.0018 - val_loss: 0.0088\n",
            "Epoch 82/100\n",
            "88/88 [==============================] - 1s 7ms/step - loss: 0.0022 - val_loss: 0.0093\n",
            "Epoch 83/100\n",
            "88/88 [==============================] - 1s 7ms/step - loss: 0.0018 - val_loss: 0.0081\n",
            "Epoch 84/100\n",
            "88/88 [==============================] - 1s 7ms/step - loss: 0.0019 - val_loss: 0.0097\n",
            "Epoch 85/100\n",
            "88/88 [==============================] - 1s 7ms/step - loss: 0.0021 - val_loss: 0.0175\n",
            "Epoch 86/100\n",
            "88/88 [==============================] - 1s 7ms/step - loss: 0.0018 - val_loss: 0.0163\n",
            "Epoch 87/100\n",
            "88/88 [==============================] - 1s 7ms/step - loss: 0.0017 - val_loss: 0.0125\n",
            "Epoch 88/100\n",
            "88/88 [==============================] - 1s 7ms/step - loss: 0.0020 - val_loss: 0.0103\n",
            "Epoch 89/100\n",
            "88/88 [==============================] - 1s 7ms/step - loss: 0.0018 - val_loss: 0.0113\n",
            "Epoch 90/100\n",
            "88/88 [==============================] - 1s 7ms/step - loss: 0.0022 - val_loss: 0.0257\n",
            "Epoch 91/100\n",
            "88/88 [==============================] - 1s 7ms/step - loss: 0.0021 - val_loss: 0.0115\n",
            "Epoch 92/100\n",
            "88/88 [==============================] - 1s 7ms/step - loss: 0.0020 - val_loss: 0.0205\n",
            "Epoch 93/100\n",
            "88/88 [==============================] - 1s 7ms/step - loss: 0.0017 - val_loss: 0.0101\n",
            "Epoch 94/100\n",
            "88/88 [==============================] - 1s 7ms/step - loss: 0.0018 - val_loss: 0.0152\n",
            "Epoch 95/100\n",
            "88/88 [==============================] - 1s 7ms/step - loss: 0.0018 - val_loss: 0.0153\n",
            "Epoch 96/100\n",
            "88/88 [==============================] - 1s 7ms/step - loss: 0.0019 - val_loss: 0.0144\n",
            "Epoch 97/100\n",
            "88/88 [==============================] - 1s 7ms/step - loss: 0.0020 - val_loss: 0.0084\n",
            "Epoch 98/100\n",
            "88/88 [==============================] - 1s 7ms/step - loss: 0.0019 - val_loss: 0.0158\n",
            "Epoch 99/100\n",
            "88/88 [==============================] - 1s 7ms/step - loss: 0.0021 - val_loss: 0.0101\n",
            "Epoch 100/100\n",
            "88/88 [==============================] - 1s 7ms/step - loss: 0.0018 - val_loss: 0.0243\n"
          ],
          "name": "stdout"
        },
        {
          "output_type": "execute_result",
          "data": {
            "text/plain": [
              "<tensorflow.python.keras.callbacks.History at 0x7f91304c2128>"
            ]
          },
          "metadata": {
            "tags": []
          },
          "execution_count": 34
        }
      ]
    },
    {
      "cell_type": "code",
      "metadata": {
        "id": "tbKhaMjocLpW",
        "colab_type": "code",
        "colab": {}
      },
      "source": [
        "\n",
        "### Lets Do the prediction and check performance metrics\n",
        "train_predict=model.predict(X_train)\n",
        "test_predict=model.predict(X_test)"
      ],
      "execution_count": 0,
      "outputs": []
    },
    {
      "cell_type": "code",
      "metadata": {
        "id": "dB8SUh6DciCi",
        "colab_type": "code",
        "colab": {}
      },
      "source": [
        "##Transformback to original form\n",
        "train_predict=scaler.inverse_transform(train_predict)\n",
        "test_predict=scaler.inverse_transform(test_predict)"
      ],
      "execution_count": 0,
      "outputs": []
    },
    {
      "cell_type": "code",
      "metadata": {
        "id": "yi1TGJ1gcnh-",
        "colab_type": "code",
        "colab": {
          "base_uri": "https://localhost:8080/",
          "height": 1000
        },
        "outputId": "65aa0f73-ee2c-407e-f1f8-f74157e97618"
      },
      "source": [
        "y_train.shape,train_predict.shape,train_predict"
      ],
      "execution_count": 37,
      "outputs": [
        {
          "output_type": "execute_result",
          "data": {
            "text/plain": [
              "((88,), (88, 1), array([[128.09128 ],\n",
              "        [122.38815 ],\n",
              "        [135.05687 ],\n",
              "        [145.18779 ],\n",
              "        [144.66136 ],\n",
              "        [135.20808 ],\n",
              "        [121.97234 ],\n",
              "        [109.85535 ],\n",
              "        [120.51669 ],\n",
              "        [116.50039 ],\n",
              "        [125.873566],\n",
              "        [138.77332 ],\n",
              "        [133.14487 ],\n",
              "        [126.143166],\n",
              "        [147.93977 ],\n",
              "        [164.48143 ],\n",
              "        [163.04324 ],\n",
              "        [153.98744 ],\n",
              "        [133.57405 ],\n",
              "        [119.15757 ],\n",
              "        [140.9255  ],\n",
              "        [141.91487 ],\n",
              "        [146.83247 ],\n",
              "        [173.49202 ],\n",
              "        [155.60655 ],\n",
              "        [169.08458 ],\n",
              "        [172.86977 ],\n",
              "        [192.94196 ],\n",
              "        [188.81332 ],\n",
              "        [175.96553 ],\n",
              "        [158.45667 ],\n",
              "        [146.49136 ],\n",
              "        [165.42867 ],\n",
              "        [165.45427 ],\n",
              "        [174.36389 ],\n",
              "        [186.47763 ],\n",
              "        [172.50662 ],\n",
              "        [178.77493 ],\n",
              "        [213.37971 ],\n",
              "        [216.31172 ],\n",
              "        [230.16151 ],\n",
              "        [190.63353 ],\n",
              "        [186.14267 ],\n",
              "        [168.0787  ],\n",
              "        [192.3082  ],\n",
              "        [186.86615 ],\n",
              "        [188.26042 ],\n",
              "        [231.46104 ],\n",
              "        [216.71432 ],\n",
              "        [216.70255 ],\n",
              "        [234.71559 ],\n",
              "        [252.02052 ],\n",
              "        [253.86461 ],\n",
              "        [212.20094 ],\n",
              "        [201.85266 ],\n",
              "        [173.2215  ],\n",
              "        [200.81303 ],\n",
              "        [194.24596 ],\n",
              "        [178.82878 ],\n",
              "        [233.65659 ],\n",
              "        [207.32817 ],\n",
              "        [225.19572 ],\n",
              "        [255.70816 ],\n",
              "        [289.14853 ],\n",
              "        [260.8142  ],\n",
              "        [234.21414 ],\n",
              "        [214.55379 ],\n",
              "        [193.49458 ],\n",
              "        [227.58914 ],\n",
              "        [228.4428  ],\n",
              "        [216.95311 ],\n",
              "        [262.58817 ],\n",
              "        [246.1043  ],\n",
              "        [254.19576 ],\n",
              "        [310.3907  ],\n",
              "        [346.02484 ],\n",
              "        [293.16974 ],\n",
              "        [278.85733 ],\n",
              "        [243.66377 ],\n",
              "        [216.6546  ],\n",
              "        [280.70273 ],\n",
              "        [257.2605  ],\n",
              "        [256.68427 ],\n",
              "        [312.72476 ],\n",
              "        [274.95718 ],\n",
              "        [300.1655  ],\n",
              "        [370.15787 ],\n",
              "        [374.34238 ]], dtype=float32))"
            ]
          },
          "metadata": {
            "tags": []
          },
          "execution_count": 37
        }
      ]
    },
    {
      "cell_type": "code",
      "metadata": {
        "id": "m7HMznzFcrb_",
        "colab_type": "code",
        "colab": {
          "base_uri": "https://localhost:8080/",
          "height": 34
        },
        "outputId": "db9d800e-8432-492b-f4b8-33592eccc37f"
      },
      "source": [
        "\n",
        "### Calculate RMSE performance metrics\n",
        "import math\n",
        "from sklearn.metrics import mean_squared_error\n",
        "math.sqrt(mean_squared_error(y_train,train_predict))"
      ],
      "execution_count": 38,
      "outputs": [
        {
          "output_type": "execute_result",
          "data": {
            "text/plain": [
              "209.36198788097215"
            ]
          },
          "metadata": {
            "tags": []
          },
          "execution_count": 38
        }
      ]
    },
    {
      "cell_type": "code",
      "metadata": {
        "id": "i9DaJWsTcvWT",
        "colab_type": "code",
        "colab": {
          "base_uri": "https://localhost:8080/",
          "height": 34
        },
        "outputId": "cc41f105-30e8-499b-fc45-51cefe56ce9a"
      },
      "source": [
        "### Test Data RMSE\n",
        "math.sqrt(mean_squared_error(ytest,test_predict))"
      ],
      "execution_count": 39,
      "outputs": [
        {
          "output_type": "execute_result",
          "data": {
            "text/plain": [
              "357.4234580617042"
            ]
          },
          "metadata": {
            "tags": []
          },
          "execution_count": 39
        }
      ]
    },
    {
      "cell_type": "code",
      "metadata": {
        "id": "mr5UaCWlcyjg",
        "colab_type": "code",
        "colab": {
          "base_uri": "https://localhost:8080/",
          "height": 265
        },
        "outputId": "7cb17a87-f81f-4f10-93bd-0a8a91e980d8"
      },
      "source": [
        "### Plotting \n",
        "# shift train predictions for plotting\n",
        "look_back=4\n",
        "trainPredictPlot = numpy.empty_like(df)\n",
        "trainPredictPlot[:, :] = np.nan\n",
        "trainPredictPlot[look_back:len(train_predict)+look_back, :] = train_predict\n",
        "# shift test predictions for plotting\n",
        "testPredictPlot = numpy.empty_like(df)\n",
        "testPredictPlot[:, :] = numpy.nan\n",
        "testPredictPlot[len(train_predict)+(look_back*2)+1:len(df)-1, :] = test_predict\n",
        "# plot baseline and predictions\n",
        "plt.plot(scaler.inverse_transform(scaled_df))\n",
        "plt.plot(trainPredictPlot)\n",
        "plt.plot(testPredictPlot)\n",
        "plt.show()"
      ],
      "execution_count": 42,
      "outputs": [
        {
          "output_type": "display_data",
          "data": {
            "image/png": "[encoded data removed]",
            "text/plain": [
              "<Figure size 432x288 with 1 Axes>"
            ]
          },
          "metadata": {
            "tags": [],
            "needs_background": "light"
          }
        }
      ]
    },
    {
      "cell_type": "code",
      "metadata": {
        "id": "r7Ub0O_yc4eV",
        "colab_type": "code",
        "colab": {}
      },
      "source": [
        ""
      ],
      "execution_count": 0,
      "outputs": []
    }
  ]
}
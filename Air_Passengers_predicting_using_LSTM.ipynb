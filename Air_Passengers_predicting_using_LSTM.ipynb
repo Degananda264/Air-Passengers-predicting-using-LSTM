{
  "nbformat": 4,
  "nbformat_minor": 0,
  "metadata": {
    "colab": {
      "name": "Air Passengers predicting using LSTM.ipynb",
      "provenance": [],
      "authorship_tag": "ABX9TyPJrGml9Z+ab/9MFu7Cw5Ml",
      "include_colab_link": true
    },
    "kernelspec": {
      "name": "python3",
      "display_name": "Python 3"
    },
    "accelerator": "GPU"
  },
  "cells": [
    {
      "cell_type": "markdown",
      "metadata": {
        "id": "view-in-github",
        "colab_type": "text"
      },
      "source": [
        "<a href=\"https://colab.research.google.com/github/Degananda264/Air-Passengers-predicting-using-LSTM/blob/master/Air_Passengers_predicting_using_LSTM.ipynb\" target=\"_parent\"><img src=\"https://colab.research.google.com/assets/colab-badge.svg\" alt=\"Open In Colab\"/></a>"
      ]
    },
    {
      "cell_type": "code",
      "metadata": {
        "id": "bpexm-QgZW-_",
        "colab_type": "code",
        "outputId": "b629daba-f960-4697-f869-5c6f15e03711",
        "colab": {
          "base_uri": "https://localhost:8080/",
          "height": 71
        }
      },
      "source": [
        "import pandas as pd\n",
        "import numpy as np\n",
        "import matplotlib.pyplot as plt\n",
        "import seaborn\n"
      ],
      "execution_count": 1,
      "outputs": [
        {
          "output_type": "stream",
          "text": [
            "/usr/local/lib/python3.6/dist-packages/statsmodels/tools/_testing.py:19: FutureWarning: pandas.util.testing is deprecated. Use the functions in the public API at pandas.testing instead.\n",
            "  import pandas.util.testing as tm\n"
          ],
          "name": "stderr"
        }
      ]
    },
    {
      "cell_type": "code",
      "metadata": {
        "id": "cSTTJ1hYZkXc",
        "colab_type": "code",
        "colab": {}
      },
      "source": [
        "df=pd.read_csv(\"/content/AirPassengers.csv\")"
      ],
      "execution_count": 0,
      "outputs": []
    },
    {
      "cell_type": "code",
      "metadata": {
        "id": "4Qx9GConZs1s",
        "colab_type": "code",
        "outputId": "44b9e557-b1a0-4c3a-aaa0-452270e47481",
        "colab": {
          "base_uri": "https://localhost:8080/",
          "height": 204
        }
      },
      "source": [
        "df.head()"
      ],
      "execution_count": 3,
      "outputs": [
        {
          "output_type": "execute_result",
          "data": {
            "text/html": [
              "<div>\n",
              "<style scoped>\n",
              "    .dataframe tbody tr th:only-of-type {\n",
              "        vertical-align: middle;\n",
              "    }\n",
              "\n",
              "    .dataframe tbody tr th {\n",
              "        vertical-align: top;\n",
              "    }\n",
              "\n",
              "    .dataframe thead th {\n",
              "        text-align: right;\n",
              "    }\n",
              "</style>\n",
              "<table border=\"1\" class=\"dataframe\">\n",
              "  <thead>\n",
              "    <tr style=\"text-align: right;\">\n",
              "      <th></th>\n",
              "      <th>Month</th>\n",
              "      <th>#Passengers</th>\n",
              "    </tr>\n",
              "  </thead>\n",
              "  <tbody>\n",
              "    <tr>\n",
              "      <th>0</th>\n",
              "      <td>1949-01</td>\n",
              "      <td>112</td>\n",
              "    </tr>\n",
              "    <tr>\n",
              "      <th>1</th>\n",
              "      <td>1949-02</td>\n",
              "      <td>118</td>\n",
              "    </tr>\n",
              "    <tr>\n",
              "      <th>2</th>\n",
              "      <td>1949-03</td>\n",
              "      <td>132</td>\n",
              "    </tr>\n",
              "    <tr>\n",
              "      <th>3</th>\n",
              "      <td>1949-04</td>\n",
              "      <td>129</td>\n",
              "    </tr>\n",
              "    <tr>\n",
              "      <th>4</th>\n",
              "      <td>1949-05</td>\n",
              "      <td>121</td>\n",
              "    </tr>\n",
              "  </tbody>\n",
              "</table>\n",
              "</div>"
            ],
            "text/plain": [
              "     Month  #Passengers\n",
              "0  1949-01          112\n",
              "1  1949-02          118\n",
              "2  1949-03          132\n",
              "3  1949-04          129\n",
              "4  1949-05          121"
            ]
          },
          "metadata": {
            "tags": []
          },
          "execution_count": 3
        }
      ]
    },
    {
      "cell_type": "code",
      "metadata": {
        "id": "042kqghaaqVl",
        "colab_type": "code",
        "outputId": "4165e4c6-ff13-400f-83a9-cb58f49e1234",
        "colab": {
          "base_uri": "https://localhost:8080/",
          "height": 34
        }
      },
      "source": [
        "df.shape"
      ],
      "execution_count": 4,
      "outputs": [
        {
          "output_type": "execute_result",
          "data": {
            "text/plain": [
              "(144, 2)"
            ]
          },
          "metadata": {
            "tags": []
          },
          "execution_count": 4
        }
      ]
    },
    {
      "cell_type": "code",
      "metadata": {
        "id": "CGREYHt-asP2",
        "colab_type": "code",
        "outputId": "37e35a4e-1a43-4a9f-9dbb-1c020b923030",
        "colab": {
          "base_uri": "https://localhost:8080/",
          "height": 68
        }
      },
      "source": [
        "df.isnull().sum()"
      ],
      "execution_count": 5,
      "outputs": [
        {
          "output_type": "execute_result",
          "data": {
            "text/plain": [
              "Month          0\n",
              "#Passengers    0\n",
              "dtype: int64"
            ]
          },
          "metadata": {
            "tags": []
          },
          "execution_count": 5
        }
      ]
    },
    {
      "cell_type": "code",
      "metadata": {
        "id": "ixYtcMEbZwuE",
        "colab_type": "code",
        "outputId": "7c81bbe4-3799-4d2d-d56c-040eb891e765",
        "colab": {
          "base_uri": "https://localhost:8080/",
          "height": 282
        }
      },
      "source": [
        "plt.plot(df['#Passengers'])"
      ],
      "execution_count": 6,
      "outputs": [
        {
          "output_type": "execute_result",
          "data": {
            "text/plain": [
              "[<matplotlib.lines.Line2D at 0x7f3e2b155278>]"
            ]
          },
          "metadata": {
            "tags": []
          },
          "execution_count": 6
        },
        {
          "output_type": "display_data",
          "data": {
            "image/png": "[encoded data removed]",
            "text/plain": [
              "<Figure size 432x288 with 1 Axes>"
            ]
          },
          "metadata": {
            "tags": [],
            "needs_background": "light"
          }
        }
      ]
    },
    {
      "cell_type": "code",
      "metadata": {
        "id": "nwDs3IkMZ2Zf",
        "colab_type": "code",
        "colab": {}
      },
      "source": [
        "from sklearn.preprocessing import MinMaxScaler"
      ],
      "execution_count": 0,
      "outputs": []
    },
    {
      "cell_type": "code",
      "metadata": {
        "id": "EUvMDvlVaDe0",
        "colab_type": "code",
        "colab": {}
      },
      "source": [
        "scaler=MinMaxScaler(feature_range=(0, 1))\n",
        "scaled_df=scaler.fit_transform(df.iloc[:,1:])"
      ],
      "execution_count": 0,
      "outputs": []
    },
    {
      "cell_type": "code",
      "metadata": {
        "id": "KNQBvrC1aXsL",
        "colab_type": "code",
        "outputId": "2288d09c-8fa1-4bc1-b5ec-1a969887cfc6",
        "colab": {
          "base_uri": "https://localhost:8080/",
          "height": 34
        }
      },
      "source": [
        "scaled_df.shape"
      ],
      "execution_count": 9,
      "outputs": [
        {
          "output_type": "execute_result",
          "data": {
            "text/plain": [
              "(144, 1)"
            ]
          },
          "metadata": {
            "tags": []
          },
          "execution_count": 9
        }
      ]
    },
    {
      "cell_type": "code",
      "metadata": {
        "id": "w-jiFCR7alrg",
        "colab_type": "code",
        "colab": {}
      },
      "source": [
        "train_df_size=int(len(df)*0.65)"
      ],
      "execution_count": 0,
      "outputs": []
    },
    {
      "cell_type": "code",
      "metadata": {
        "id": "8F_X_0Ita7oK",
        "colab_type": "code",
        "outputId": "3db70521-623c-4f44-f541-b44a87825409",
        "colab": {
          "base_uri": "https://localhost:8080/",
          "height": 34
        }
      },
      "source": [
        "train_df_size"
      ],
      "execution_count": 11,
      "outputs": [
        {
          "output_type": "execute_result",
          "data": {
            "text/plain": [
              "93"
            ]
          },
          "metadata": {
            "tags": []
          },
          "execution_count": 11
        }
      ]
    },
    {
      "cell_type": "code",
      "metadata": {
        "id": "vgmOF-E6a-Am",
        "colab_type": "code",
        "colab": {}
      },
      "source": [
        "test_df_size=len(df)-train_df_size"
      ],
      "execution_count": 0,
      "outputs": []
    },
    {
      "cell_type": "code",
      "metadata": {
        "id": "6qDUPu7mbLbR",
        "colab_type": "code",
        "outputId": "012fd8bd-1f4f-4398-f3d5-9313cf583aa9",
        "colab": {
          "base_uri": "https://localhost:8080/",
          "height": 34
        }
      },
      "source": [
        "test_df_size"
      ],
      "execution_count": 13,
      "outputs": [
        {
          "output_type": "execute_result",
          "data": {
            "text/plain": [
              "51"
            ]
          },
          "metadata": {
            "tags": []
          },
          "execution_count": 13
        }
      ]
    },
    {
      "cell_type": "code",
      "metadata": {
        "id": "7TK5Ro0cbPc2",
        "colab_type": "code",
        "colab": {}
      },
      "source": [
        "train_data,test_data=scaled_df[0:train_df_size,:],scaled_df[train_df_size:len(df),:1]"
      ],
      "execution_count": 0,
      "outputs": []
    },
    {
      "cell_type": "code",
      "metadata": {
        "id": "oxaiWKqIbUZ6",
        "colab_type": "code",
        "outputId": "9d6772f8-fb34-4770-f5f6-dc4585f8ab65",
        "colab": {
          "base_uri": "https://localhost:8080/",
          "height": 1000
        }
      },
      "source": [
        "train_data"
      ],
      "execution_count": 15,
      "outputs": [
        {
          "output_type": "execute_result",
          "data": {
            "text/plain": [
              "array([[0.01544402],\n",
              "       [0.02702703],\n",
              "       [0.05405405],\n",
              "       [0.04826255],\n",
              "       [0.03281853],\n",
              "       [0.05984556],\n",
              "       [0.08494208],\n",
              "       [0.08494208],\n",
              "       [0.06177606],\n",
              "       [0.02895753],\n",
              "       [0.        ],\n",
              "       [0.02702703],\n",
              "       [0.02123552],\n",
              "       [0.04247104],\n",
              "       [0.07142857],\n",
              "       [0.05984556],\n",
              "       [0.04054054],\n",
              "       [0.08687259],\n",
              "       [0.12741313],\n",
              "       [0.12741313],\n",
              "       [0.1042471 ],\n",
              "       [0.05598456],\n",
              "       [0.01930502],\n",
              "       [0.06949807],\n",
              "       [0.07915058],\n",
              "       [0.08880309],\n",
              "       [0.14285714],\n",
              "       [0.11389961],\n",
              "       [0.13127413],\n",
              "       [0.14285714],\n",
              "       [0.18339768],\n",
              "       [0.18339768],\n",
              "       [0.15444015],\n",
              "       [0.11196911],\n",
              "       [0.08108108],\n",
              "       [0.11969112],\n",
              "       [0.12934363],\n",
              "       [0.14671815],\n",
              "       [0.17181467],\n",
              "       [0.14864865],\n",
              "       [0.15250965],\n",
              "       [0.22007722],\n",
              "       [0.24324324],\n",
              "       [0.26640927],\n",
              "       [0.2027027 ],\n",
              "       [0.16795367],\n",
              "       [0.13127413],\n",
              "       [0.17374517],\n",
              "       [0.17760618],\n",
              "       [0.17760618],\n",
              "       [0.25482625],\n",
              "       [0.25289575],\n",
              "       [0.24131274],\n",
              "       [0.26833977],\n",
              "       [0.30888031],\n",
              "       [0.32432432],\n",
              "       [0.25675676],\n",
              "       [0.20656371],\n",
              "       [0.14671815],\n",
              "       [0.18725869],\n",
              "       [0.19305019],\n",
              "       [0.16216216],\n",
              "       [0.25289575],\n",
              "       [0.23745174],\n",
              "       [0.25096525],\n",
              "       [0.30888031],\n",
              "       [0.38223938],\n",
              "       [0.36486486],\n",
              "       [0.2992278 ],\n",
              "       [0.24131274],\n",
              "       [0.19111969],\n",
              "       [0.24131274],\n",
              "       [0.26640927],\n",
              "       [0.24903475],\n",
              "       [0.31467181],\n",
              "       [0.31853282],\n",
              "       [0.32046332],\n",
              "       [0.40733591],\n",
              "       [0.5019305 ],\n",
              "       [0.46911197],\n",
              "       [0.4015444 ],\n",
              "       [0.32818533],\n",
              "       [0.25675676],\n",
              "       [0.33590734],\n",
              "       [0.34749035],\n",
              "       [0.33397683],\n",
              "       [0.41119691],\n",
              "       [0.4034749 ],\n",
              "       [0.41312741],\n",
              "       [0.52123552],\n",
              "       [0.5965251 ],\n",
              "       [0.58108108],\n",
              "       [0.48455598]])"
            ]
          },
          "metadata": {
            "tags": []
          },
          "execution_count": 15
        }
      ]
    },
    {
      "cell_type": "code",
      "metadata": {
        "id": "Xc40WOR8br1N",
        "colab_type": "code",
        "colab": {}
      },
      "source": [
        "import numpy\n",
        "# convert an array of values into a dataset matrix\n",
        "def create_dataset(dataset, time_step=1):\n",
        "\tdataX, dataY = [], []\n",
        "\tfor i in range(len(dataset)-time_step-1):\n",
        "\t\ta = dataset[i:(i+time_step), 0]   ###i=0, 0,1,2,3\n",
        "\t\tdataX.append(a)\n",
        "\t\tdataY.append(dataset[i + time_step, 0])\n",
        "\treturn numpy.array(dataX), numpy.array(dataY)"
      ],
      "execution_count": 0,
      "outputs": []
    },
    {
      "cell_type": "code",
      "metadata": {
        "id": "LzHbPBhbb4wI",
        "colab_type": "code",
        "colab": {}
      },
      "source": [
        "# reshape into X=t,t+1,t+2,t+3 and Y=t+4\n",
        "time_step = 20\n",
        "X_train, y_train = create_dataset(train_data, time_step)\n",
        "X_test, ytest = create_dataset(test_data, time_step)"
      ],
      "execution_count": 0,
      "outputs": []
    },
    {
      "cell_type": "code",
      "metadata": {
        "id": "FyyrhKv5b9ru",
        "colab_type": "code",
        "outputId": "41ac9d8f-7cd2-43f9-8408-3bf15a82a3c0",
        "colab": {
          "base_uri": "https://localhost:8080/",
          "height": 34
        }
      },
      "source": [
        "\n",
        "X_train.shape, y_train.shape"
      ],
      "execution_count": 60,
      "outputs": [
        {
          "output_type": "execute_result",
          "data": {
            "text/plain": [
              "((72, 20), (72,))"
            ]
          },
          "metadata": {
            "tags": []
          },
          "execution_count": 60
        }
      ]
    },
    {
      "cell_type": "code",
      "metadata": {
        "id": "1APVAKCccAT9",
        "colab_type": "code",
        "colab": {}
      },
      "source": [
        "import numpy as np\n",
        "# reshape input to be [samples, time steps, features] which is required for LSTM\n",
        "X_train =X_train.reshape(X_train.shape[0], 20, 1)\n",
        "X_test = X_test.reshape(X_test.shape[0], 20, 1)"
      ],
      "execution_count": 0,
      "outputs": []
    },
    {
      "cell_type": "code",
      "metadata": {
        "id": "UVzwbNN0cFcb",
        "colab_type": "code",
        "colab": {}
      },
      "source": [
        "\n",
        "### Create the LSTM model\n",
        "from tensorflow.keras.models import Sequential\n",
        "from tensorflow.keras.layers import Dense\n",
        "from tensorflow.keras.layers import LSTM"
      ],
      "execution_count": 0,
      "outputs": []
    },
    {
      "cell_type": "code",
      "metadata": {
        "id": "BsPN96MXcIAm",
        "colab_type": "code",
        "outputId": "48725c8b-1756-4438-b39a-f5f769e53fb4",
        "colab": {
          "base_uri": "https://localhost:8080/",
          "height": 1000
        }
      },
      "source": [
        "\n",
        "model=Sequential()\n",
        "model.add(LSTM(50,return_sequences=True,input_shape=(20,1)))\n",
        "model.add(LSTM(50))\n",
        "model.add(Dense(1))\n",
        "model.compile(loss='mean_squared_error',optimizer='adam')\n",
        "model.fit(X_train,y_train,validation_data=(X_test,ytest),epochs=100,batch_size=1,verbose=1)"
      ],
      "execution_count": 64,
      "outputs": [
        {
          "output_type": "stream",
          "text": [
            "Epoch 1/100\n",
            "72/72 [==============================] - 1s 20ms/step - loss: 0.0090 - val_loss: 0.0347\n",
            "Epoch 2/100\n",
            "72/72 [==============================] - 1s 10ms/step - loss: 0.0054 - val_loss: 0.0708\n",
            "Epoch 3/100\n",
            "72/72 [==============================] - 1s 10ms/step - loss: 0.0048 - val_loss: 0.0260\n",
            "Epoch 4/100\n",
            "72/72 [==============================] - 1s 10ms/step - loss: 0.0053 - val_loss: 0.0222\n",
            "Epoch 5/100\n",
            "72/72 [==============================] - 1s 10ms/step - loss: 0.0061 - val_loss: 0.0423\n",
            "Epoch 6/100\n",
            "72/72 [==============================] - 1s 10ms/step - loss: 0.0074 - val_loss: 0.0333\n",
            "Epoch 7/100\n",
            "72/72 [==============================] - 1s 10ms/step - loss: 0.0046 - val_loss: 0.0198\n",
            "Epoch 8/100\n",
            "72/72 [==============================] - 1s 10ms/step - loss: 0.0033 - val_loss: 0.0703\n",
            "Epoch 9/100\n",
            "72/72 [==============================] - 1s 10ms/step - loss: 0.0023 - val_loss: 0.0611\n",
            "Epoch 10/100\n",
            "72/72 [==============================] - 1s 10ms/step - loss: 0.0032 - val_loss: 0.0139\n",
            "Epoch 11/100\n",
            "72/72 [==============================] - 1s 10ms/step - loss: 0.0022 - val_loss: 0.1943\n",
            "Epoch 12/100\n",
            "72/72 [==============================] - 1s 10ms/step - loss: 0.0023 - val_loss: 0.0098\n",
            "Epoch 13/100\n",
            "72/72 [==============================] - 1s 10ms/step - loss: 0.0018 - val_loss: 0.0483\n",
            "Epoch 14/100\n",
            "72/72 [==============================] - 1s 10ms/step - loss: 0.0021 - val_loss: 0.1089\n",
            "Epoch 15/100\n",
            "72/72 [==============================] - 1s 10ms/step - loss: 0.0020 - val_loss: 0.0085\n",
            "Epoch 16/100\n",
            "72/72 [==============================] - 1s 10ms/step - loss: 0.0021 - val_loss: 0.0282\n",
            "Epoch 17/100\n",
            "72/72 [==============================] - 1s 10ms/step - loss: 0.0018 - val_loss: 0.0538\n",
            "Epoch 18/100\n",
            "72/72 [==============================] - 1s 10ms/step - loss: 0.0022 - val_loss: 0.0294\n",
            "Epoch 19/100\n",
            "72/72 [==============================] - 1s 10ms/step - loss: 0.0020 - val_loss: 0.0403\n",
            "Epoch 20/100\n",
            "72/72 [==============================] - 1s 10ms/step - loss: 0.0020 - val_loss: 0.0279\n",
            "Epoch 21/100\n",
            "72/72 [==============================] - 1s 10ms/step - loss: 0.0016 - val_loss: 0.1007\n",
            "Epoch 22/100\n",
            "72/72 [==============================] - 1s 10ms/step - loss: 0.0021 - val_loss: 0.0314\n",
            "Epoch 23/100\n",
            "72/72 [==============================] - 1s 10ms/step - loss: 0.0022 - val_loss: 0.0340\n",
            "Epoch 24/100\n",
            "72/72 [==============================] - 1s 10ms/step - loss: 0.0018 - val_loss: 0.0559\n",
            "Epoch 25/100\n",
            "72/72 [==============================] - 1s 10ms/step - loss: 0.0018 - val_loss: 0.0975\n",
            "Epoch 26/100\n",
            "72/72 [==============================] - 1s 10ms/step - loss: 0.0020 - val_loss: 0.0439\n",
            "Epoch 27/100\n",
            "72/72 [==============================] - 1s 10ms/step - loss: 0.0021 - val_loss: 0.0244\n",
            "Epoch 28/100\n",
            "72/72 [==============================] - 1s 10ms/step - loss: 0.0018 - val_loss: 0.0469\n",
            "Epoch 29/100\n",
            "72/72 [==============================] - 1s 10ms/step - loss: 0.0017 - val_loss: 0.0602\n",
            "Epoch 30/100\n",
            "72/72 [==============================] - 1s 10ms/step - loss: 0.0020 - val_loss: 0.0660\n",
            "Epoch 31/100\n",
            "72/72 [==============================] - 1s 10ms/step - loss: 0.0023 - val_loss: 0.1327\n",
            "Epoch 32/100\n",
            "72/72 [==============================] - 1s 10ms/step - loss: 0.0019 - val_loss: 0.0326\n",
            "Epoch 33/100\n",
            "72/72 [==============================] - 1s 10ms/step - loss: 0.0018 - val_loss: 0.0733\n",
            "Epoch 34/100\n",
            "72/72 [==============================] - 1s 10ms/step - loss: 0.0024 - val_loss: 0.0464\n",
            "Epoch 35/100\n",
            "72/72 [==============================] - 1s 10ms/step - loss: 0.0021 - val_loss: 0.0193\n",
            "Epoch 36/100\n",
            "72/72 [==============================] - 1s 10ms/step - loss: 0.0017 - val_loss: 0.0316\n",
            "Epoch 37/100\n",
            "72/72 [==============================] - 1s 10ms/step - loss: 0.0016 - val_loss: 0.0408\n",
            "Epoch 38/100\n",
            "72/72 [==============================] - 1s 10ms/step - loss: 0.0022 - val_loss: 0.1227\n",
            "Epoch 39/100\n",
            "72/72 [==============================] - 1s 10ms/step - loss: 0.0018 - val_loss: 0.0478\n",
            "Epoch 40/100\n",
            "72/72 [==============================] - 1s 10ms/step - loss: 0.0015 - val_loss: 0.0291\n",
            "Epoch 41/100\n",
            "72/72 [==============================] - 1s 10ms/step - loss: 0.0016 - val_loss: 0.0601\n",
            "Epoch 42/100\n",
            "72/72 [==============================] - 1s 10ms/step - loss: 0.0023 - val_loss: 0.0351\n",
            "Epoch 43/100\n",
            "72/72 [==============================] - 1s 10ms/step - loss: 0.0016 - val_loss: 0.0518\n",
            "Epoch 44/100\n",
            "72/72 [==============================] - 1s 10ms/step - loss: 0.0018 - val_loss: 0.0173\n",
            "Epoch 45/100\n",
            "72/72 [==============================] - 1s 10ms/step - loss: 0.0016 - val_loss: 0.0403\n",
            "Epoch 46/100\n",
            "72/72 [==============================] - 1s 10ms/step - loss: 0.0017 - val_loss: 0.0350\n",
            "Epoch 47/100\n",
            "72/72 [==============================] - 1s 10ms/step - loss: 0.0017 - val_loss: 0.0491\n",
            "Epoch 48/100\n",
            "72/72 [==============================] - 1s 10ms/step - loss: 0.0015 - val_loss: 0.0644\n",
            "Epoch 49/100\n",
            "72/72 [==============================] - 1s 10ms/step - loss: 0.0014 - val_loss: 0.0466\n",
            "Epoch 50/100\n",
            "72/72 [==============================] - 1s 10ms/step - loss: 0.0013 - val_loss: 0.0079\n",
            "Epoch 51/100\n",
            "72/72 [==============================] - 1s 10ms/step - loss: 0.0013 - val_loss: 0.0085\n",
            "Epoch 52/100\n",
            "72/72 [==============================] - 1s 10ms/step - loss: 0.0011 - val_loss: 0.0688\n",
            "Epoch 53/100\n",
            "72/72 [==============================] - 1s 10ms/step - loss: 0.0010 - val_loss: 0.0250\n",
            "Epoch 54/100\n",
            "72/72 [==============================] - 1s 10ms/step - loss: 0.0011 - val_loss: 0.1161\n",
            "Epoch 55/100\n",
            "72/72 [==============================] - 1s 10ms/step - loss: 0.0016 - val_loss: 0.0175\n",
            "Epoch 56/100\n",
            "72/72 [==============================] - 1s 10ms/step - loss: 0.0013 - val_loss: 0.0238\n",
            "Epoch 57/100\n",
            "72/72 [==============================] - 1s 10ms/step - loss: 0.0010 - val_loss: 0.0100\n",
            "Epoch 58/100\n",
            "72/72 [==============================] - 1s 10ms/step - loss: 0.0011 - val_loss: 0.0080\n",
            "Epoch 59/100\n",
            "72/72 [==============================] - 1s 10ms/step - loss: 0.0011 - val_loss: 0.0182\n",
            "Epoch 60/100\n",
            "72/72 [==============================] - 1s 10ms/step - loss: 0.0014 - val_loss: 0.0068\n",
            "Epoch 61/100\n",
            "72/72 [==============================] - 1s 10ms/step - loss: 0.0015 - val_loss: 0.0158\n",
            "Epoch 62/100\n",
            "72/72 [==============================] - 1s 11ms/step - loss: 0.0016 - val_loss: 0.0181\n",
            "Epoch 63/100\n",
            "72/72 [==============================] - 1s 10ms/step - loss: 0.0011 - val_loss: 0.0191\n",
            "Epoch 64/100\n",
            "72/72 [==============================] - 1s 10ms/step - loss: 0.0010 - val_loss: 0.0117\n",
            "Epoch 65/100\n",
            "72/72 [==============================] - 1s 10ms/step - loss: 9.5232e-04 - val_loss: 0.0262\n",
            "Epoch 66/100\n",
            "72/72 [==============================] - 1s 10ms/step - loss: 0.0011 - val_loss: 0.0252\n",
            "Epoch 67/100\n",
            "72/72 [==============================] - 1s 10ms/step - loss: 0.0012 - val_loss: 0.0189\n",
            "Epoch 68/100\n",
            "72/72 [==============================] - 1s 10ms/step - loss: 9.7865e-04 - val_loss: 0.0128\n",
            "Epoch 69/100\n",
            "72/72 [==============================] - 1s 10ms/step - loss: 0.0016 - val_loss: 0.0042\n",
            "Epoch 70/100\n",
            "72/72 [==============================] - 1s 10ms/step - loss: 0.0012 - val_loss: 0.0059\n",
            "Epoch 71/100\n",
            "72/72 [==============================] - 1s 10ms/step - loss: 0.0014 - val_loss: 0.0113\n",
            "Epoch 72/100\n",
            "72/72 [==============================] - 1s 10ms/step - loss: 0.0011 - val_loss: 0.0046\n",
            "Epoch 73/100\n",
            "72/72 [==============================] - 1s 10ms/step - loss: 0.0010 - val_loss: 0.0030\n",
            "Epoch 74/100\n",
            "72/72 [==============================] - 1s 10ms/step - loss: 8.9357e-04 - val_loss: 0.0110\n",
            "Epoch 75/100\n",
            "72/72 [==============================] - 1s 10ms/step - loss: 0.0010 - val_loss: 0.0051\n",
            "Epoch 76/100\n",
            "72/72 [==============================] - 1s 10ms/step - loss: 0.0012 - val_loss: 0.0113\n",
            "Epoch 77/100\n",
            "72/72 [==============================] - 1s 10ms/step - loss: 0.0011 - val_loss: 0.0032\n",
            "Epoch 78/100\n",
            "72/72 [==============================] - 1s 10ms/step - loss: 9.7531e-04 - val_loss: 0.0053\n",
            "Epoch 79/100\n",
            "72/72 [==============================] - 1s 10ms/step - loss: 0.0011 - val_loss: 0.0034\n",
            "Epoch 80/100\n",
            "72/72 [==============================] - 1s 10ms/step - loss: 9.8229e-04 - val_loss: 0.0065\n",
            "Epoch 81/100\n",
            "72/72 [==============================] - 1s 10ms/step - loss: 0.0011 - val_loss: 0.0047\n",
            "Epoch 82/100\n",
            "72/72 [==============================] - 1s 10ms/step - loss: 9.9599e-04 - val_loss: 0.0061\n",
            "Epoch 83/100\n",
            "72/72 [==============================] - 1s 10ms/step - loss: 9.1135e-04 - val_loss: 0.0111\n",
            "Epoch 84/100\n",
            "72/72 [==============================] - 1s 10ms/step - loss: 0.0010 - val_loss: 0.0083\n",
            "Epoch 85/100\n",
            "72/72 [==============================] - 1s 10ms/step - loss: 0.0012 - val_loss: 0.0041\n",
            "Epoch 86/100\n",
            "72/72 [==============================] - 1s 10ms/step - loss: 0.0014 - val_loss: 0.0046\n",
            "Epoch 87/100\n",
            "72/72 [==============================] - 1s 10ms/step - loss: 8.3744e-04 - val_loss: 0.0052\n",
            "Epoch 88/100\n",
            "72/72 [==============================] - 1s 10ms/step - loss: 8.1327e-04 - val_loss: 0.0098\n",
            "Epoch 89/100\n",
            "72/72 [==============================] - 1s 10ms/step - loss: 8.3068e-04 - val_loss: 0.0085\n",
            "Epoch 90/100\n",
            "72/72 [==============================] - 1s 10ms/step - loss: 8.7941e-04 - val_loss: 0.0082\n",
            "Epoch 91/100\n",
            "72/72 [==============================] - 1s 10ms/step - loss: 8.6590e-04 - val_loss: 0.0038\n",
            "Epoch 92/100\n",
            "72/72 [==============================] - 1s 10ms/step - loss: 8.3586e-04 - val_loss: 0.0041\n",
            "Epoch 93/100\n",
            "72/72 [==============================] - 1s 10ms/step - loss: 8.1837e-04 - val_loss: 0.0040\n",
            "Epoch 94/100\n",
            "72/72 [==============================] - 1s 10ms/step - loss: 7.2740e-04 - val_loss: 0.0043\n",
            "Epoch 95/100\n",
            "72/72 [==============================] - 1s 10ms/step - loss: 0.0011 - val_loss: 0.0067\n",
            "Epoch 96/100\n",
            "72/72 [==============================] - 1s 10ms/step - loss: 0.0011 - val_loss: 0.0040\n",
            "Epoch 97/100\n",
            "72/72 [==============================] - 1s 10ms/step - loss: 8.1072e-04 - val_loss: 0.0138\n",
            "Epoch 98/100\n",
            "72/72 [==============================] - 1s 10ms/step - loss: 0.0013 - val_loss: 0.0080\n",
            "Epoch 99/100\n",
            "72/72 [==============================] - 1s 10ms/step - loss: 8.5867e-04 - val_loss: 0.0046\n",
            "Epoch 100/100\n",
            "72/72 [==============================] - 1s 10ms/step - loss: 9.0889e-04 - val_loss: 0.0062\n"
          ],
          "name": "stdout"
        },
        {
          "output_type": "execute_result",
          "data": {
            "text/plain": [
              "<tensorflow.python.keras.callbacks.History at 0x7f3d9031a0f0>"
            ]
          },
          "metadata": {
            "tags": []
          },
          "execution_count": 64
        }
      ]
    },
    {
      "cell_type": "code",
      "metadata": {
        "id": "tbKhaMjocLpW",
        "colab_type": "code",
        "colab": {}
      },
      "source": [
        "\n",
        "### Lets Do the prediction and check performance metrics\n",
        "train_predict=model.predict(X_train)\n",
        "test_predict=model.predict(X_test)"
      ],
      "execution_count": 0,
      "outputs": []
    },
    {
      "cell_type": "code",
      "metadata": {
        "id": "dB8SUh6DciCi",
        "colab_type": "code",
        "colab": {}
      },
      "source": [
        "##Transformback to original form\n",
        "train_predict=scaler.inverse_transform(train_predict)\n",
        "test_predict=scaler.inverse_transform(test_predict)"
      ],
      "execution_count": 0,
      "outputs": []
    },
    {
      "cell_type": "code",
      "metadata": {
        "id": "yi1TGJ1gcnh-",
        "colab_type": "code",
        "outputId": "eb053f12-52d3-4102-d06a-b87e48a4f2f6",
        "colab": {
          "base_uri": "https://localhost:8080/",
          "height": 1000
        }
      },
      "source": [
        "y_train.shape,train_predict.shape,train_predict"
      ],
      "execution_count": 67,
      "outputs": [
        {
          "output_type": "execute_result",
          "data": {
            "text/plain": [
              "((72,), (72, 1), array([[154.10835],\n",
              "        [139.19093],\n",
              "        [128.40308],\n",
              "        [128.2037 ],\n",
              "        [138.99559],\n",
              "        [150.06963],\n",
              "        [157.12564],\n",
              "        [164.06473],\n",
              "        [169.23103],\n",
              "        [177.61522],\n",
              "        [187.70532],\n",
              "        [192.13846],\n",
              "        [180.8891 ],\n",
              "        [163.29137],\n",
              "        [157.33417],\n",
              "        [160.6784 ],\n",
              "        [170.28453],\n",
              "        [178.29616],\n",
              "        [183.10173],\n",
              "        [188.92067],\n",
              "        [195.5247 ],\n",
              "        [204.75386],\n",
              "        [220.63776],\n",
              "        [224.25734],\n",
              "        [214.86461],\n",
              "        [189.01332],\n",
              "        [175.33356],\n",
              "        [175.86096],\n",
              "        [187.76369],\n",
              "        [197.6355 ],\n",
              "        [203.36243],\n",
              "        [214.67311],\n",
              "        [231.66528],\n",
              "        [250.10567],\n",
              "        [264.12802],\n",
              "        [261.64966],\n",
              "        [244.48041],\n",
              "        [216.7086 ],\n",
              "        [204.21948],\n",
              "        [203.46352],\n",
              "        [212.03983],\n",
              "        [217.68289],\n",
              "        [216.30557],\n",
              "        [224.50734],\n",
              "        [242.26395],\n",
              "        [268.86523],\n",
              "        [298.73032],\n",
              "        [307.66467],\n",
              "        [271.44824],\n",
              "        [217.39384],\n",
              "        [201.75328],\n",
              "        [212.68362],\n",
              "        [230.40538],\n",
              "        [242.22705],\n",
              "        [246.10696],\n",
              "        [255.42465],\n",
              "        [274.93234],\n",
              "        [301.8731 ],\n",
              "        [338.25507],\n",
              "        [359.6829 ],\n",
              "        [326.83572],\n",
              "        [270.59378],\n",
              "        [251.85065],\n",
              "        [260.0303 ],\n",
              "        [277.30914],\n",
              "        [287.1979 ],\n",
              "        [290.85294],\n",
              "        [305.40622],\n",
              "        [331.1251 ],\n",
              "        [362.0101 ],\n",
              "        [400.33463],\n",
              "        [415.41486]], dtype=float32))"
            ]
          },
          "metadata": {
            "tags": []
          },
          "execution_count": 67
        }
      ]
    },
    {
      "cell_type": "code",
      "metadata": {
        "id": "m7HMznzFcrb_",
        "colab_type": "code",
        "outputId": "022dabcb-a48c-46ac-c6f0-4b9a9e74ba6a",
        "colab": {
          "base_uri": "https://localhost:8080/",
          "height": 34
        }
      },
      "source": [
        "\n",
        "### Calculate RMSE performance metrics\n",
        "import math\n",
        "from sklearn.metrics import mean_squared_error\n",
        "math.sqrt(mean_squared_error(y_train,train_predict))"
      ],
      "execution_count": 68,
      "outputs": [
        {
          "output_type": "execute_result",
          "data": {
            "text/plain": [
              "236.95413139552485"
            ]
          },
          "metadata": {
            "tags": []
          },
          "execution_count": 68
        }
      ]
    },
    {
      "cell_type": "code",
      "metadata": {
        "id": "i9DaJWsTcvWT",
        "colab_type": "code",
        "outputId": "3d834b44-ed52-4fef-e22d-d8195d0ddb78",
        "colab": {
          "base_uri": "https://localhost:8080/",
          "height": 34
        }
      },
      "source": [
        "### Test Data RMSE\n",
        "math.sqrt(mean_squared_error(ytest,test_predict))"
      ],
      "execution_count": 69,
      "outputs": [
        {
          "output_type": "execute_result",
          "data": {
            "text/plain": [
              "463.8255802413074"
            ]
          },
          "metadata": {
            "tags": []
          },
          "execution_count": 69
        }
      ]
    },
    {
      "cell_type": "code",
      "metadata": {
        "id": "mr5UaCWlcyjg",
        "colab_type": "code",
        "outputId": "ebd9f278-0898-444b-f26c-d50e931673f9",
        "colab": {
          "base_uri": "https://localhost:8080/",
          "height": 265
        }
      },
      "source": [
        "### Plotting \n",
        "# shift train predictions for plotting\n",
        "look_back=20\n",
        "trainPredictPlot = numpy.empty_like(df)\n",
        "trainPredictPlot[:, :] = np.nan\n",
        "trainPredictPlot[look_back:len(train_predict)+look_back, :] = train_predict\n",
        "# shift test predictions for plotting\n",
        "testPredictPlot = numpy.empty_like(df)\n",
        "testPredictPlot[:, :] = numpy.nan\n",
        "testPredictPlot[len(train_predict)+(look_back*2)+1:len(df)-1, :] = test_predict\n",
        "# plot baseline and predictions\n",
        "plt.plot(scaler.inverse_transform(scaled_df))\n",
        "plt.plot(trainPredictPlot)\n",
        "plt.plot(testPredictPlot)\n",
        "plt.show()"
      ],
      "execution_count": 71,
      "outputs": [
        {
          "output_type": "display_data",
          "data": {
            "image/png": "[encoded data removed]",
            "text/plain": [
              "<Figure size 432x288 with 1 Axes>"
            ]
          },
          "metadata": {
            "tags": [],
            "needs_background": "light"
          }
        }
      ]
    },
    {
      "cell_type": "code",
      "metadata": {
        "id": "r7Ub0O_yc4eV",
        "colab_type": "code",
        "colab": {
          "base_uri": "https://localhost:8080/",
          "height": 34
        },
        "outputId": "a2f6d9f6-3375-4fb3-cad7-17e074a8b90a"
      },
      "source": [
        "len(test_data)"
      ],
      "execution_count": 72,
      "outputs": [
        {
          "output_type": "execute_result",
          "data": {
            "text/plain": [
              "51"
            ]
          },
          "metadata": {
            "tags": []
          },
          "execution_count": 72
        }
      ]
    },
    {
      "cell_type": "code",
      "metadata": {
        "id": "k87f2-MnLqLq",
        "colab_type": "code",
        "colab": {
          "base_uri": "https://localhost:8080/",
          "height": 34
        },
        "outputId": "c97e7307-a8ef-4481-995a-b0cdc2761035"
      },
      "source": [
        "\n",
        "x_input=test_data[31:].reshape(1,-1)\n",
        "x_input.shape"
      ],
      "execution_count": 73,
      "outputs": [
        {
          "output_type": "execute_result",
          "data": {
            "text/plain": [
              "(1, 20)"
            ]
          },
          "metadata": {
            "tags": []
          },
          "execution_count": 73
        }
      ]
    },
    {
      "cell_type": "code",
      "metadata": {
        "id": "_4WxwLhUL1X-",
        "colab_type": "code",
        "colab": {}
      },
      "source": [
        "temp_input=list(x_input)\n",
        "temp_input=temp_input[0].tolist()"
      ],
      "execution_count": 0,
      "outputs": []
    },
    {
      "cell_type": "code",
      "metadata": {
        "id": "v-dNbdcgL4uz",
        "colab_type": "code",
        "colab": {
          "base_uri": "https://localhost:8080/",
          "height": 357
        },
        "outputId": "71b017a6-d9d1-4eed-9f04-9845caaabbd6"
      },
      "source": [
        "\n",
        "temp_input"
      ],
      "execution_count": 75,
      "outputs": [
        {
          "output_type": "execute_result",
          "data": {
            "text/plain": [
              "[0.61003861003861,\n",
              " 0.7104247104247104,\n",
              " 0.8571428571428572,\n",
              " 0.8783783783783783,\n",
              " 0.693050193050193,\n",
              " 0.5849420849420849,\n",
              " 0.4980694980694981,\n",
              " 0.581081081081081,\n",
              " 0.6042471042471043,\n",
              " 0.5540540540540541,\n",
              " 0.6081081081081081,\n",
              " 0.6891891891891891,\n",
              " 0.7104247104247104,\n",
              " 0.832046332046332,\n",
              " 1.0,\n",
              " 0.9691119691119692,\n",
              " 0.7799227799227799,\n",
              " 0.6891891891891891,\n",
              " 0.5521235521235521,\n",
              " 0.6332046332046332]"
            ]
          },
          "metadata": {
            "tags": []
          },
          "execution_count": 75
        }
      ]
    },
    {
      "cell_type": "code",
      "metadata": {
        "id": "UjABdUFwL-ai",
        "colab_type": "code",
        "colab": {
          "base_uri": "https://localhost:8080/",
          "height": 1000
        },
        "outputId": "25edf3f9-4ec0-44e7-e675-0dd86ae78428"
      },
      "source": [
        "from numpy import array\n",
        "\n",
        "lst_output=[]\n",
        "n_steps=20\n",
        "i=0\n",
        "while(i<20):\n",
        "    \n",
        "    if(len(temp_input)>20):\n",
        "        #print(temp_input)\n",
        "        x_input=np.array(temp_input[1:])\n",
        "        print(\"{} day input {}\".format(i,x_input))\n",
        "        x_input=x_input.reshape(1,-1)\n",
        "        x_input = x_input.reshape((1, n_steps, 1))\n",
        "        #print(x_input)\n",
        "        yhat = model.predict(x_input, verbose=0)\n",
        "        print(\"{} day output {}\".format(i,yhat))\n",
        "        temp_input.extend(yhat[0].tolist())\n",
        "        temp_input=temp_input[1:]\n",
        "        #print(temp_input)\n",
        "        lst_output.extend(yhat.tolist())\n",
        "        i=i+1\n",
        "    else:\n",
        "        x_input = x_input.reshape((1, n_steps,1))\n",
        "        yhat = model.predict(x_input, verbose=0)\n",
        "        print(yhat[0])\n",
        "        temp_input.extend(yhat[0].tolist())\n",
        "        print(len(temp_input))\n",
        "        lst_output.extend(yhat.tolist())\n",
        "        i=i+1\n",
        "    \n",
        "\n",
        "print(lst_output)"
      ],
      "execution_count": 78,
      "outputs": [
        {
          "output_type": "stream",
          "text": [
            "0 day input [0.60810811 0.68918919 0.71042471 0.83204633 1.         0.96911197\n",
            " 0.77992278 0.68918919 0.55212355 0.63320463 0.69098169 0.7010051\n",
            " 0.72337908 0.76697892 0.8372165  0.9160825  0.970662   0.97331685\n",
            " 0.93566215 0.88980174]\n",
            "0 day output [[0.86137074]]\n",
            "1 day input [0.68918919 0.71042471 0.83204633 1.         0.96911197 0.77992278\n",
            " 0.68918919 0.55212355 0.63320463 0.69098169 0.7010051  0.72337908\n",
            " 0.76697892 0.8372165  0.9160825  0.970662   0.97331685 0.93566215\n",
            " 0.88980174 0.86137074]\n",
            "1 day output [[0.8532332]]\n",
            "2 day input [0.71042471 0.83204633 1.         0.96911197 0.77992278 0.68918919\n",
            " 0.55212355 0.63320463 0.69098169 0.7010051  0.72337908 0.76697892\n",
            " 0.8372165  0.9160825  0.970662   0.97331685 0.93566215 0.88980174\n",
            " 0.86137074 0.85323322]\n",
            "2 day output [[0.85451305]]\n",
            "3 day input [0.83204633 1.         0.96911197 0.77992278 0.68918919 0.55212355\n",
            " 0.63320463 0.69098169 0.7010051  0.72337908 0.76697892 0.8372165\n",
            " 0.9160825  0.970662   0.97331685 0.93566215 0.88980174 0.86137074\n",
            " 0.85323322 0.85451305]\n",
            "3 day output [[0.8606863]]\n",
            "4 day input [1.         0.96911197 0.77992278 0.68918919 0.55212355 0.63320463\n",
            " 0.69098169 0.7010051  0.72337908 0.76697892 0.8372165  0.9160825\n",
            " 0.970662   0.97331685 0.93566215 0.88980174 0.86137074 0.85323322\n",
            " 0.85451305 0.8606863 ]\n",
            "4 day output [[0.87284577]]\n",
            "5 day input [0.96911197 0.77992278 0.68918919 0.55212355 0.63320463 0.69098169\n",
            " 0.7010051  0.72337908 0.76697892 0.8372165  0.9160825  0.970662\n",
            " 0.97331685 0.93566215 0.88980174 0.86137074 0.85323322 0.85451305\n",
            " 0.8606863  0.87284577]\n",
            "5 day output [[0.89335763]]\n",
            "6 day input [0.77992278 0.68918919 0.55212355 0.63320463 0.69098169 0.7010051\n",
            " 0.72337908 0.76697892 0.8372165  0.9160825  0.970662   0.97331685\n",
            " 0.93566215 0.88980174 0.86137074 0.85323322 0.85451305 0.8606863\n",
            " 0.87284577 0.89335763]\n",
            "6 day output [[0.92393255]]\n",
            "7 day input [0.68918919 0.55212355 0.63320463 0.69098169 0.7010051  0.72337908\n",
            " 0.76697892 0.8372165  0.9160825  0.970662   0.97331685 0.93566215\n",
            " 0.88980174 0.86137074 0.85323322 0.85451305 0.8606863  0.87284577\n",
            " 0.89335763 0.92393255]\n",
            "7 day output [[0.95851606]]\n",
            "8 day input [0.55212355 0.63320463 0.69098169 0.7010051  0.72337908 0.76697892\n",
            " 0.8372165  0.9160825  0.970662   0.97331685 0.93566215 0.88980174\n",
            " 0.86137074 0.85323322 0.85451305 0.8606863  0.87284577 0.89335763\n",
            " 0.92393255 0.95851606]\n",
            "8 day output [[0.98857546]]\n",
            "9 day input [0.63320463 0.69098169 0.7010051  0.72337908 0.76697892 0.8372165\n",
            " 0.9160825  0.970662   0.97331685 0.93566215 0.88980174 0.86137074\n",
            " 0.85323322 0.85451305 0.8606863  0.87284577 0.89335763 0.92393255\n",
            " 0.95851606 0.98857546]\n",
            "9 day output [[1.0048883]]\n",
            "10 day input [0.69098169 0.7010051  0.72337908 0.76697892 0.8372165  0.9160825\n",
            " 0.970662   0.97331685 0.93566215 0.88980174 0.86137074 0.85323322\n",
            " 0.85451305 0.8606863  0.87284577 0.89335763 0.92393255 0.95851606\n",
            " 0.98857546 1.0048883 ]\n",
            "10 day output [[1.0087229]]\n",
            "11 day input [0.7010051  0.72337908 0.76697892 0.8372165  0.9160825  0.970662\n",
            " 0.97331685 0.93566215 0.88980174 0.86137074 0.85323322 0.85451305\n",
            " 0.8606863  0.87284577 0.89335763 0.92393255 0.95851606 0.98857546\n",
            " 1.0048883  1.0087229 ]\n",
            "11 day output [[1.0028685]]\n",
            "12 day input [0.72337908 0.76697892 0.8372165  0.9160825  0.970662   0.97331685\n",
            " 0.93566215 0.88980174 0.86137074 0.85323322 0.85451305 0.8606863\n",
            " 0.87284577 0.89335763 0.92393255 0.95851606 0.98857546 1.0048883\n",
            " 1.0087229  1.00286853]\n",
            "12 day output [[0.9923937]]\n",
            "13 day input [0.76697892 0.8372165  0.9160825  0.970662   0.97331685 0.93566215\n",
            " 0.88980174 0.86137074 0.85323322 0.85451305 0.8606863  0.87284577\n",
            " 0.89335763 0.92393255 0.95851606 0.98857546 1.0048883  1.0087229\n",
            " 1.00286853 0.99239367]\n",
            "13 day output [[0.98278725]]\n",
            "14 day input [0.8372165  0.9160825  0.970662   0.97331685 0.93566215 0.88980174\n",
            " 0.86137074 0.85323322 0.85451305 0.8606863  0.87284577 0.89335763\n",
            " 0.92393255 0.95851606 0.98857546 1.0048883  1.0087229  1.00286853\n",
            " 0.99239367 0.98278725]\n",
            "14 day output [[0.9768677]]\n",
            "15 day input [0.9160825  0.970662   0.97331685 0.93566215 0.88980174 0.86137074\n",
            " 0.85323322 0.85451305 0.8606863  0.87284577 0.89335763 0.92393255\n",
            " 0.95851606 0.98857546 1.0048883  1.0087229  1.00286853 0.99239367\n",
            " 0.98278725 0.97686768]\n",
            "15 day output [[0.9754001]]\n",
            "16 day input [0.970662   0.97331685 0.93566215 0.88980174 0.86137074 0.85323322\n",
            " 0.85451305 0.8606863  0.87284577 0.89335763 0.92393255 0.95851606\n",
            " 0.98857546 1.0048883  1.0087229  1.00286853 0.99239367 0.98278725\n",
            " 0.97686768 0.97540009]\n",
            "16 day output [[0.97837114]]\n",
            "17 day input [0.97331685 0.93566215 0.88980174 0.86137074 0.85323322 0.85451305\n",
            " 0.8606863  0.87284577 0.89335763 0.92393255 0.95851606 0.98857546\n",
            " 1.0048883  1.0087229  1.00286853 0.99239367 0.98278725 0.97686768\n",
            " 0.97540009 0.97837114]\n",
            "17 day output [[0.9856004]]\n",
            "18 day input [0.93566215 0.88980174 0.86137074 0.85323322 0.85451305 0.8606863\n",
            " 0.87284577 0.89335763 0.92393255 0.95851606 0.98857546 1.0048883\n",
            " 1.0087229  1.00286853 0.99239367 0.98278725 0.97686768 0.97540009\n",
            " 0.97837114 0.98560041]\n",
            "18 day output [[0.9964459]]\n",
            "19 day input [0.88980174 0.86137074 0.85323322 0.85451305 0.8606863  0.87284577\n",
            " 0.89335763 0.92393255 0.95851606 0.98857546 1.0048883  1.0087229\n",
            " 1.00286853 0.99239367 0.98278725 0.97686768 0.97540009 0.97837114\n",
            " 0.98560041 0.99644589]\n",
            "19 day output [[1.0094222]]\n",
            "[[0.8613707423210144], [0.8532332181930542], [0.8545130491256714], [0.8606863021850586], [0.8728457689285278], [0.8933576345443726], [0.9239325523376465], [0.9585160613059998], [0.9885754585266113], [1.0048882961273193], [1.0087229013442993], [1.0028685331344604], [0.9923936724662781], [0.9827872514724731], [0.97686767578125], [0.9754000902175903], [0.9783711433410645], [0.9856004118919373], [0.996445894241333], [1.0094221830368042]]\n"
          ],
          "name": "stdout"
        }
      ]
    },
    {
      "cell_type": "code",
      "metadata": {
        "id": "IMTg62DBMKDp",
        "colab_type": "code",
        "colab": {}
      },
      "source": [
        "day_new=np.arange(1,145)\n",
        "day_pred=np.arange(145,165)"
      ],
      "execution_count": 0,
      "outputs": []
    },
    {
      "cell_type": "code",
      "metadata": {
        "id": "OzfCb4KkNGYZ",
        "colab_type": "code",
        "colab": {
          "base_uri": "https://localhost:8080/",
          "height": 221
        },
        "outputId": "e89aa62a-e050-46f5-a2f9-3227ceba0110"
      },
      "source": [
        "day_new"
      ],
      "execution_count": 82,
      "outputs": [
        {
          "output_type": "execute_result",
          "data": {
            "text/plain": [
              "array([  1,   2,   3,   4,   5,   6,   7,   8,   9,  10,  11,  12,  13,\n",
              "        14,  15,  16,  17,  18,  19,  20,  21,  22,  23,  24,  25,  26,\n",
              "        27,  28,  29,  30,  31,  32,  33,  34,  35,  36,  37,  38,  39,\n",
              "        40,  41,  42,  43,  44,  45,  46,  47,  48,  49,  50,  51,  52,\n",
              "        53,  54,  55,  56,  57,  58,  59,  60,  61,  62,  63,  64,  65,\n",
              "        66,  67,  68,  69,  70,  71,  72,  73,  74,  75,  76,  77,  78,\n",
              "        79,  80,  81,  82,  83,  84,  85,  86,  87,  88,  89,  90,  91,\n",
              "        92,  93,  94,  95,  96,  97,  98,  99, 100, 101, 102, 103, 104,\n",
              "       105, 106, 107, 108, 109, 110, 111, 112, 113, 114, 115, 116, 117,\n",
              "       118, 119, 120, 121, 122, 123, 124, 125, 126, 127, 128, 129, 130,\n",
              "       131, 132, 133, 134, 135, 136, 137, 138, 139, 140, 141, 142, 143,\n",
              "       144])"
            ]
          },
          "metadata": {
            "tags": []
          },
          "execution_count": 82
        }
      ]
    },
    {
      "cell_type": "code",
      "metadata": {
        "id": "CU-y3LIYMpvB",
        "colab_type": "code",
        "colab": {
          "base_uri": "https://localhost:8080/",
          "height": 34
        },
        "outputId": "3286ab3d-68b2-4622-bc3e-38b265599327"
      },
      "source": [
        "len(scaled_df[0:])\n"
      ],
      "execution_count": 83,
      "outputs": [
        {
          "output_type": "execute_result",
          "data": {
            "text/plain": [
              "144"
            ]
          },
          "metadata": {
            "tags": []
          },
          "execution_count": 83
        }
      ]
    },
    {
      "cell_type": "code",
      "metadata": {
        "id": "eXlJqxTbMW26",
        "colab_type": "code",
        "colab": {
          "base_uri": "https://localhost:8080/",
          "height": 282
        },
        "outputId": "54bfed6e-46fd-4ee0-b82a-b31d31bd5f36"
      },
      "source": [
        "\n",
        "plt.plot(day_new,scaler.inverse_transform(scaled_df[0:]))\n",
        "plt.plot(day_pred,scaler.inverse_transform(lst_output))"
      ],
      "execution_count": 84,
      "outputs": [
        {
          "output_type": "execute_result",
          "data": {
            "text/plain": [
              "[<matplotlib.lines.Line2D at 0x7f3d90554978>]"
            ]
          },
          "metadata": {
            "tags": []
          },
          "execution_count": 84
        },
        {
          "output_type": "display_data",
          "data": {
            "image/png": "[encoded data removed]",
            "text/plain": [
              "<Figure size 432x288 with 1 Axes>"
            ]
          },
          "metadata": {
            "tags": [],
            "needs_background": "light"
          }
        }
      ]
    },
    {
      "cell_type": "code",
      "metadata": {
        "id": "22_4sfiSMyXj",
        "colab_type": "code",
        "colab": {}
      },
      "source": [
        ""
      ],
      "execution_count": 0,
      "outputs": []
    }
  ]
}